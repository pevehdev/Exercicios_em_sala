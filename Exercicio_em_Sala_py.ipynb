{
  "cells": [
    {
      "cell_type": "markdown",
      "metadata": {
        "id": "view-in-github",
        "colab_type": "text"
      },
      "source": [
        "<a href=\"https://colab.research.google.com/github/pevehdev/Exercicios_em_sala/blob/main/Exercicio_em_Sala_py.ipynb\" target=\"_parent\"><img src=\"https://colab.research.google.com/assets/colab-badge.svg\" alt=\"Open In Colab\"/></a>"
      ]
    },
    {
      "cell_type": "markdown",
      "metadata": {
        "id": "5Ic43Ol9wVVq"
      },
      "source": [
        "EXERCICIO 21 - LISTA\n",
        "\n",
        "Faça um programa que carregue uma lista com os modelos de cinco carros (exemplo de modelos: FUSCA, GOL, VECTRA etc). Carregue uma outra lista com o consumo desses carros, isto é, quantos quilômetros cada um desses carros faz com um litro de combustível. Calcule e mostre:\n",
        "O modelo do carro mais econômico;\n",
        "Quantos litros de combustível cada um dos carros cadastrados consome para percorrer uma distância de 1000 quilômetros e quanto isto custará, considerando um que a gasolina custe R$ 2,25 o litro. Abaixo segue uma tela de exemplo. O disposição das informações deve ser o mais próxima possível ao exemplo. Os dados são fictícios e podem mudar a cada execução do programa"
      ]
    },
    {
      "cell_type": "code",
      "execution_count": null,
      "metadata": {
        "colab": {
          "base_uri": "https://localhost:8080/"
        },
        "id": "KYqbCHKhwXWq",
        "outputId": "0059625b-1e94-4c15-b323-4bbfe1705463"
      },
      "outputs": [
        {
          "name": "stdout",
          "output_type": "stream",
          "text": [
            "Modelo mais econômico: Tuatara\n",
            "Tuatara consome: 21.74 litros, custando R$ 48.91\n"
          ]
        }
      ],
      "source": [
        "#Lista aninhada com cada modelo de carro com quilometros por litro, ou seja a cada 1KM o carro Buggati consome 49 Litros\n",
        "\n",
        "carros = [\n",
        "    ['Koenigsegg_Jesko_Absolut', 53],\n",
        "    ['Hennessey_Venom_F5', 50],\n",
        "    ['Bugatti', 49] ,\n",
        "    ['Koenigsegg', 48] ,\n",
        "    ['Tuatara', 46 ]\n",
        "    ]\n",
        "preco_combustivel = 2.25\n",
        "\n",
        "def calcular_custo(modelo, consumo):\n",
        "    litros_consumidos = 1000 / consumo\n",
        "    custo = litros_consumidos * preco_combustivel\n",
        "    return litros_consumidos, custo\n",
        "\n",
        "# A variável abaixo percorre toda a sublista de carros, como temos duas posições, passamos no parametro x a posição que será feito a verificação de menor, pois\n",
        "# posição [0] é o modelo, que não faria sentido em termos de comparação de menor valor pois é uma string. O [0] fora do parenteses da função min, é para exibir para o usuario\n",
        "# o modelo do carro.\n",
        "modelo_mais_economico = min(carros, key=lambda x: x[1])[0]\n",
        "print(\"Modelo mais econômico:\", modelo_mais_economico)\n",
        "\n",
        "for carro in carros:\n",
        "    modelo = carro[0]\n",
        "    consumo = carro[1]\n",
        "litros, custo = calcular_custo(modelo, consumo)\n",
        "print(f\"{modelo} consome: {litros:.2f} litros percorrendo 1000km, custando R$ {custo:.2f}\")\n",
        "\n",
        "\n"
      ]
    },
    {
      "cell_type": "markdown",
      "metadata": {
        "id": "6lj6xMp5O8jr"
      },
      "source": [
        "EXERCICIO 9 - CLASSE - ACHAR CENTRO DO RETANGULO\n",
        "\n",
        "Classe Ponto e Retangulo: Faça um programa completo utilizando funções e classes que:\n",
        "\n",
        "Possua uma classe chamada Ponto, com os atributos x e y.\n",
        "\n",
        "Possua uma classe chamada Retangulo, com os atributos largura e altura.\n",
        "\n",
        "Possua uma função para imprimir os valores da classe Ponto\n",
        "\n",
        "Possua uma função para encontrar o centro de um Retângulo.\n",
        "\n",
        "Você deve criar alguns objetos da classe Retangulo.\n",
        "\n",
        "Cada objeto deve ter um vértice de partida, por exemplo, o vértice inferior esquerdo do retângulo, que deve ser um objeto da classe Ponto.\n",
        "\n",
        "A função para encontrar o centro do retângulo deve retornar o valor para um objeto do tipo ponto que indique os valores de x e y para o centro do objeto.\n",
        "\n",
        "O valor do centro do objeto deve ser mostrado na tela\n",
        "\n",
        "Crie um menu para alterar os valores do retângulo e imprimir o centro deste retângulo."
      ]
    },
    {
      "cell_type": "code",
      "execution_count": null,
      "metadata": {
        "id": "FL0x9hsKPcNk"
      },
      "outputs": [],
      "source": [
        "class Ponto:\n",
        "    def __init__(self, x, y):\n",
        "        self.x = x\n",
        "        self.y = y\n",
        "\n",
        "    def imprimir(self):\n",
        "        print(f\"Ponto x: {self.x} Ponto y: {self.y}\")\n",
        "\n",
        "class Retangulo(Ponto):\n",
        "    def __init__(self, largura, altura,ponto):\n",
        "        self.largura = largura\n",
        "        self.altura = altura\n",
        "        self.ponto = ponto\n",
        "\n",
        "    def imprimir(self):\n",
        "        print(f\"Largura: {self.largura} Altura: {self.altura}\")\n",
        "\n",
        "    def encontrar_centro(self):\n",
        "        centro_x = self.ponto.x + (largura / 2)\n",
        "        centro_y = self.ponto.y + (altura / 2)\n",
        "\n",
        "        print(f'Valores do centro x:{centro_x} e y:{centro_y}')\n",
        "\n",
        "x = int(input('Digite o valor do eixo x do ponto cartesiano: '))\n",
        "y = int(input('Digite o valor do eixo y do ponto cartesiano: '))\n",
        "\n",
        "largura = int(input('Digite a largura do retangulo'))\n",
        "altura =  int(input('Digite a altura do retangulo'))\n",
        "ponto = Ponto(x, y)\n",
        "ponto.imprimir()\n",
        "instancia_retangulo = Retangulo(largura, altura, ponto)\n",
        "instancia_retangulo.imprimir()\n",
        "instancia_retangulo.encontrar_centro()\n",
        "continuar = True\n",
        "while continuar:\n",
        "    print(\"**MENU**\")\n",
        "    print(\"1 - Alterar dados\")\n",
        "    print('2 - Exibir Centro do retangulo')\n",
        "\n",
        "    opcao = int(input())\n",
        "\n",
        "    if opcao == 1:\n",
        "        x = int(input('Digite o valor do eixo x do ponto cartesiano: '))\n",
        "        y = int(input('Digite o valor do eixo y do ponto cartesiano: '))\n",
        "        largura = int(input('Digite a largura do retangulo'))\n",
        "        altura =  int(input('Digite a altura do retangulo'))\n",
        "        instancia_ponto = Ponto(x, y)\n",
        "        instancia_ponto.imprimir()\n",
        "        instancia_retangulo = Retangulo(largura, altura)\n",
        "        instancia_retangulo.imprimir()\n",
        "\n",
        "    if opcao == 2:\n",
        "       instancia_retangulo.encontrar_centro()\n",
        "\n",
        "    if opcao == 3:\n",
        "        continuar = False\n"
      ]
    },
    {
      "cell_type": "markdown",
      "source": [
        "EXERCICIO 7 - FUNÇÃO\n",
        "\n",
        "Faça um programa que use a função valorPagamento para determinar o valor a ser pago por uma prestação de uma conta. O programa deverá solicitar ao usuário o valor da prestação e o número de dias em atraso e passar estes valores para a função valorPagamento, que calculará o valor a ser pago e devolverá este valor ao programa que a chamou. O programa deverá então exibir o valor a ser pago na tela. Após a execução o programa deverá voltar a pedir outro valor de prestação e assim continuar até que seja informado um valor igual a zero para a prestação. Neste momento o programa deverá ser encerrado, exibindo o relatório do dia, que conterá a quantidade e o valor total de prestações pagas no dia. O cálculo do valor a ser pago é feito da seguinte forma. Para pagamentos sem atraso, cobrar o valor da prestação. Quando houver atraso, cobrar 3% de multa, mais 0,1% de juros por dia de atraso."
      ],
      "metadata": {
        "id": "UgAQAPXfZuSA"
      }
    },
    {
      "cell_type": "code",
      "source": [
        "def valorPagamento(valor, dias):\n",
        "    multa = 0.03 * valor_prestacao\n",
        "    juros_por_dia = 0.001 * valor_prestacao\n",
        "    valor_total = valor_prestacao + multa + (juros_por_dia * dias_atraso)\n",
        "    return valor_total\n",
        "\n",
        "def relatorio_diario(quantidade_prestacoes, total_valor):\n",
        "    print(\"\\nRelatório do Dia:\")\n",
        "    print(\"Quantidade de prestações pagas:\", quantidade_prestacoes)\n",
        "    print(\"Valor total recebido:\", total_valor)\n",
        "\n",
        "\n",
        "JUROS = 0.001\n",
        "MULTA = 0.03\n",
        "quantidade_prestacoes_dia = 0\n",
        "total_valor_dia = 0\n",
        "\n",
        "while True:\n",
        "\n",
        "    valor_prestacao = float(input(\" Digite o valor da prestação: (0 para encerrar)\"))\n",
        "    if valor_prestacao == 0:\n",
        "        break\n",
        "    dias_atraso = int(input('Digite os dias de atraso: '))\n",
        "    if dias_atraso <= 0:\n",
        "            valor_total = valor_prestacao\n",
        "    else:\n",
        "        valor_total = valorPagamento(valor_prestacao, dias_atraso)\n",
        "\n",
        "    print(\"Valor a ser pago:\", valor_total)\n",
        "\n",
        "    quantidade_prestacoes_dia += 1\n",
        "    total_valor_dia += valor_total\n",
        "\n",
        "    relatorio_diario(quantidade_prestacoes_dia, total_valor_dia)"
      ],
      "metadata": {
        "id": "EV9tfFOCZ2Ny"
      },
      "execution_count": null,
      "outputs": []
    }
  ],
  "metadata": {
    "colab": {
      "provenance": [],
      "authorship_tag": "ABX9TyOp6ZcjqGw8+5tTHOzRCw/M",
      "include_colab_link": true
    },
    "kernelspec": {
      "display_name": "Python 3",
      "name": "python3"
    },
    "language_info": {
      "name": "python"
    }
  },
  "nbformat": 4,
  "nbformat_minor": 0
}